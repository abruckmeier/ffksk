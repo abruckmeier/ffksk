{
 "cells": [
  {
   "cell_type": "markdown",
   "source": [
    "# Kiosk Auswertungen\n",
    "\n",
    "Auswertung am 04.01.2024"
   ],
   "attachments": {},
   "metadata": {
    "datalore": {
     "type": "MD",
     "hide_input_from_viewers": true,
     "hide_output_from_viewers": false
    }
   }
  },
  {
   "metadata": {},
   "cell_type": "markdown",
   "source": "## Auswertung Updaten mit 24, PayPal_Bargeld!\n"
  },
  {
   "cell_type": "code",
   "source": [
    "from __future__ import annotations\n",
    "from typing import List, Dict\n",
    "import sqlite3\n",
    "import matplotlib.pyplot as plt\n",
    "import plotly.graph_objects as go\n",
    "from copy import deepcopy\n",
    "import pandas as pd\n",
    "import numpy as np\n",
    "from datetime import datetime, date\n",
    "from dateutil.parser import parse as dt_parse\n",
    "\n",
    "con = sqlite3.connect('ffeDataBase.sqlite3')\n",
    "cur = con.cursor()\n",
    "\n",
    "\n",
    "def dictfetchall(cursor) -> List[dict]:\n",
    "    \"\"\"Return all rows from a cursor as a dict\"\"\"\n",
    "    columns = [col[0] for col in cursor.description]\n",
    "    return [\n",
    "        dict(zip(columns, row))\n",
    "        for row in cursor.fetchall()\n",
    "    ]\n",
    "\n",
    "\n",
    "def query(*args, **kwargs) -> pd.DataFrame:\n",
    "    \"\"\"\"\"\"\n",
    "    return pd.DataFrame(\n",
    "        dictfetchall(\n",
    "            cur.execute(*args, **kwargs)\n",
    "        )\n",
    "    )\n",
    "\n",
    "\n",
    "\n",
    "layout: dict = dict(\n",
    "    height=600,\n",
    "    width=800,\n",
    "    font_size=16,\n",
    "    yaxis_showline=True,\n",
    "    yaxis_linewidth=1,\n",
    "    yaxis_ticks='outside',\n",
    "    xaxis_showline=True,\n",
    "    font_family='Segoe UI',\n",
    "    yaxis_gridcolor='#E0E0E0',\n",
    "    yaxis_linecolor='#A3A3A3',\n",
    "    xaxis_linecolor='#A3A3A3',\n",
    "    plot_bgcolor='white',\n",
    "    xaxis_color='#777777',\n",
    "    yaxis_color='#777777',\n",
    "    legend_font_color='#777777',\n",
    "    title_font_color='#777777',\n",
    "    yaxis_showgrid=False,\n",
    "    xaxis_showgrid=False,\n",
    "    yaxis_rangemode='tozero',\n",
    ")\n",
    "\n",
    "color_order: List[str] = ['#356CA5', '#777777']\n",
    "\n",
    "year_choices: List[int] = list(range(2017, datetime.now().year + 1))"
   ],
   "metadata": {
    "collapsed": false
   },
   "outputs": [],
   "execution_count": null
  },
  {
   "cell_type": "markdown",
   "source": [
    "# Monatliche Verkäufe\n",
    "\n",
    "Alle Monate von Beginn des Kiosks an."
   ],
   "attachments": {},
   "metadata": {
    "datalore": {
     "type": "MD",
     "hide_input_from_viewers": true,
     "hide_output_from_viewers": false
    }
   }
  },
  {
   "cell_type": "code",
   "source": [
    "monthly_selling: pd.DataFrame = query(\"\"\"\n",
    "select\n",
    "\tstrftime('%m', \"gekauftUm\") as month,\n",
    "\tstrftime('%Y', \"gekauftUm\") as year,\n",
    "\tsum(verkaufspreis) as verkauft\n",
    "from kiosk_gekauft\n",
    "group by month,year\n",
    "order by year,month\n",
    "\"\"\")\n",
    "\n",
    "'''fig = plt.figure()\n",
    "ax = fig.add_subplot(1,1,1)\n",
    "ax.plot(\n",
    "    [x['month']+'.'+x['year'] for x in monthly_selling],\n",
    "    [x['verkauft']/100 for x in monthly_selling],\n",
    ")\n",
    "plt.show()'''\n",
    "\n",
    "monthly_selling['verkauft'] = monthly_selling.apply(\n",
    "    lambda x: x['verkauft'] / 100.0,\n",
    "    axis=1,\n",
    ")\n",
    "monthly_selling['date'] = monthly_selling.apply(\n",
    "    lambda x: date(int(x['year']), int(x['month']), 1),\n",
    "    axis=1,\n",
    ")\n",
    "\n",
    "\n",
    "_layout = deepcopy(layout)\n",
    "_layout['yaxis_title'] = 'monatliche Verkäufe in €'\n",
    "\n",
    "fig = go.Figure(\n",
    "    data=go.Scatter(\n",
    "        y=monthly_selling['verkauft'],\n",
    "        x=monthly_selling['date'],\n",
    "        line=dict(color=color_order[0]),\n",
    "\t),\n",
    "    layout=_layout,\n",
    ")\n",
    "fig.show()"
   ],
   "metadata": {
    "datalore": {
     "type": "CODE",
     "hide_input_from_viewers": true,
     "hide_output_from_viewers": false
    }
   },
   "outputs": [],
   "execution_count": null
  },
  {
   "cell_type": "markdown",
   "source": [
    "# Unbezahlte Ware\n",
    "\n",
    "Darstellung per Rate von Beginn des Kiosks an.\n",
    "\n",
    "Weitere Dateninhalte, nicht dargestellt: absolute Zahlen der Umsätze und absolute Zahlen unbezahlt an jedem Stichtag, an dem eine Inventur durchgeührt wurde."
   ],
   "attachments": {},
   "metadata": {
    "datalore": {
     "type": "MD",
     "hide_input_from_viewers": true,
     "hide_output_from_viewers": false
    }
   }
  },
  {
   "cell_type": "code",
   "source": [
    "unpaid_details: pd.DataFrame = query(\"\"\"\n",
    "select \n",
    "    *,\n",
    "    allesUmsatz - dieb as bezahlt\n",
    "from (\n",
    "    select \n",
    "        date(stamp) as datum,\n",
    "        sum(verkaufspreis) / 100.0 as allesUmsatz\n",
    "    from (\n",
    "        select \n",
    "            *\n",
    "        from kiosk_gekauft a\n",
    "        join profil_kioskuser b\n",
    "          on a.kaeufer_id = b.id\n",
    "    ) a, (\n",
    "        select \n",
    "            datetime(stamp,'+1 day','-1 second') as stamp\n",
    "        from (\n",
    "            select\n",
    "                date(gekauftUm) as stamp\n",
    "            from (\n",
    "                select \n",
    "                    *\n",
    "                from kiosk_gekauft a\n",
    "                join profil_kioskuser b\n",
    "                  on a.kaeufer_id = b.id\n",
    "            )\n",
    "            where username = 'Dieb'\n",
    "            group by stamp\n",
    "        )\n",
    "    ) b\n",
    "    where gekauftUm <= stamp\n",
    "    group by stamp\n",
    ") a\n",
    "join (\n",
    "    select \n",
    "        date(stamp) as datum,\n",
    "        sum(verkaufspreis) / 100.0 as dieb\n",
    "    from (\n",
    "        select \n",
    "            *\n",
    "        from (\n",
    "            select \n",
    "                *\n",
    "            from kiosk_gekauft a\n",
    "            join profil_kioskuser b\n",
    "              on a.kaeufer_id = b.id\n",
    "        )\n",
    "        where username='Dieb'\n",
    "    ) a, (\n",
    "        select \n",
    "            datetime(stamp,'+1 day','-1 second') as stamp\n",
    "        from (\n",
    "            select\n",
    "                date(gekauftUm) as stamp\n",
    "            from (\n",
    "                select \n",
    "                    *\n",
    "                from kiosk_gekauft a\n",
    "                join profil_kioskuser b\n",
    "                  on a.kaeufer_id = b.id\n",
    "            )\n",
    "            where username = 'Dieb'\n",
    "            group by stamp\n",
    "        )\n",
    "    ) b\n",
    "    where gekauftUm <= stamp\n",
    "    group by stamp\n",
    ") b\n",
    "    using(datum)\n",
    "    \n",
    "order by datum asc\n",
    "\"\"\")\n",
    "\n",
    "unpaid_details['date'] = unpaid_details.apply(\n",
    "    lambda x: dt_parse(x['datum']),\n",
    "    axis=1,\n",
    ")\n",
    "\n",
    "unpaid_details['unpaid_rate'] = unpaid_details.apply(\n",
    "    lambda x: x['dieb'] / x['allesUmsatz'] * 100,\n",
    "    axis=1,\n",
    ")\n",
    "\n",
    "_layout = deepcopy(layout)\n",
    "_layout['yaxis_title'] = 'Unbezahlt Rate in %'\n",
    "\n",
    "fig = go.Figure(\n",
    "    data=go.Scatter(\n",
    "        y=unpaid_details['unpaid_rate'],\n",
    "        x=unpaid_details['date'],\n",
    "        line=dict(color=color_order[0]),\n",
    "\t),\n",
    "    layout=_layout,\n",
    ")\n",
    "fig.show()"
   ],
   "metadata": {
    "datalore": {
     "type": "CODE",
     "hide_input_from_viewers": true,
     "hide_output_from_viewers": false
    }
   },
   "outputs": [],
   "execution_count": null
  },
  {
   "cell_type": "markdown",
   "source": [
    "## Hier noch Darstellung für isolierte Jahresbetrachtung"
   ],
   "attachments": {},
   "metadata": {
    "datalore": {
     "type": "MD",
     "hide_input_from_viewers": true,
     "hide_output_from_viewers": false
    }
   }
  },
  {
   "cell_type": "markdown",
   "source": [
    "# Nutzer:innen\n",
    "\n",
    "## Neue Nutzer:innen"
   ],
   "attachments": {},
   "metadata": {
    "datalore": {
     "type": "MD",
     "hide_input_from_viewers": true,
     "hide_output_from_viewers": false
    }
   }
  },
  {
   "cell_type": "code",
   "source": [
    "new_users_per_year: pd.DataFrame = query(\"\"\"\n",
    "select strftime('%Y', date_joined) as year_joined,\n",
    "       count(*) as cnt\n",
    "from profil_kioskuser\n",
    "group by year_joined\n",
    "order by year_joined\n",
    "\"\"\")\n",
    "\n",
    "fig, ax = plt.subplots()\n",
    "trace = ax.bar(\n",
    "    new_users_per_year.year_joined,\n",
    "    new_users_per_year.cnt,\n",
    "    color=color_order[0],\n",
    ")\n",
    "ax.set_ylabel('Anzahl neue Nutzer:innen')\n",
    "ax.bar_label(trace)\n",
    "plt.show()"
   ],
   "metadata": {
    "datalore": {
     "type": "CODE",
     "hide_input_from_viewers": true,
     "hide_output_from_viewers": false
    }
   },
   "outputs": [],
   "execution_count": null
  },
  {
   "cell_type": "markdown",
   "source": [
    "## Aktive Nutzer:innen\n",
    "\n",
    "Personen, die im jeweiligen Jahr aktiv waren. (Nur Login auf Webseite als Indikator! Man könnte noch Käufe und weitere Interaktionen verwenden.)\n",
    "\n",
    "**Nur das letzte Jahr ist hier aussagekräftig: User, die in vorherigen Jahren auch aktiv waren, werden nur auf das letzte Jahr der Aktivität gewertet...**"
   ],
   "attachments": {},
   "metadata": {
    "datalore": {
     "type": "MD",
     "hide_input_from_viewers": true,
     "hide_output_from_viewers": false
    }
   }
  },
  {
   "cell_type": "code",
   "source": [
    "active_users: pd.DataFrame = query(\"\"\"\n",
    "select strftime('%Y', last_login) as year_login,\n",
    "       count(*) as cnt\n",
    "from profil_kioskuser\n",
    "group by year_login\n",
    "order by year_login\n",
    "\"\"\")\n",
    "\n",
    "active_users = active_users.loc[~active_users.year_login.isna(), :]\n",
    "\n",
    "fig, ax = plt.subplots()\n",
    "trace = ax.bar(\n",
    "    active_users.year_login,\n",
    "    active_users.cnt,\n",
    "    color=color_order[0],\n",
    ")\n",
    "ax.set_ylabel('Anzahl aktive Nuter:innen')\n",
    "ax.bar_label(trace)\n",
    "plt.show()"
   ],
   "metadata": {
    "datalore": {
     "type": "CODE",
     "hide_input_from_viewers": true,
     "hide_output_from_viewers": false
    }
   },
   "outputs": [],
   "execution_count": null
  },
  {
   "cell_type": "markdown",
   "source": [
    "## Verdiente Einkäufer:innen"
   ],
   "attachments": {},
   "metadata": {
    "datalore": {
     "type": "MD",
     "hide_input_from_viewers": true,
     "hide_output_from_viewers": false
    }
   }
  },
  {
   "cell_type": "code",
   "source": [
    "best_buyers: pd.DataFrame = query(\"\"\"\n",
    "select\n",
    "count(*) cnt,\n",
    "username,\n",
    "strftime('%Y', \"geliefertUm\") as year\n",
    "from kiosk_gekauft\n",
    "join profil_kioskuser on einkaeufer_id=id\n",
    "group by einkaeufer_id, year\n",
    "order by year, username\n",
    "\"\"\")"
   ],
   "metadata": {
    "datalore": {
     "type": "CODE",
     "hide_input_from_viewers": true,
     "hide_output_from_viewers": false
    }
   },
   "outputs": [],
   "execution_count": null
  },
  {
   "cell_type": "code",
   "source": [
    "from lets_plot import * \n",
    "LetsPlot.setup_html()\n",
    "ggplot() + \\\n",
    "geom_bar(aes(x=\"year\", y=\"cnt\", color=\"username\", fill=\"username\"), data=best_buyers, sampling=\"none\" if best_buyers.size < 50 else sampling_pick(n=50), stat=\"identity\") + \\\n",
    "ggtitle(\"Verdiente Einkäufer:innen\")  +\\\n",
    "ylab(\"Anzahl der Einkäufe\")"
   ],
   "metadata": {
    "datalore": {
     "type": "PLOT",
     "hide_input_from_viewers": true,
     "hide_output_from_viewers": false,
     "plot_state": {
      "label": "Verdiente Einkäufer:innen",
      "sampling": true,
      "reactive": true,
      "plots": [
       {
        "type": "BAR",
        "variable": "best_buyers",
        "xAxis": {
         "value": "year",
         "scale": "NONE"
        },
        "yAxis": {
         "label": "Anzahl der Einkäufe",
         "value": "cnt",
         "scale": "NONE"
        },
        "colorAxis": {
         "value": "username",
         "scale": "NONE"
        }
       }
      ]
     }
    }
   },
   "outputs": [],
   "execution_count": null
  },
  {
   "cell_type": "markdown",
   "source": [
    "## Präferierte Bezahlmethode"
   ],
   "attachments": {},
   "metadata": {
    "datalore": {
     "type": "MD",
     "hide_input_from_viewers": true,
     "hide_output_from_viewers": false
    }
   }
  },
  {
   "cell_type": "code",
   "source": [
    "buying_method: pd.DataFrame = query(\"\"\"\n",
    "select\n",
    "gekauft_per,\n",
    "strftime('%Y', \"gekauftUm\") as year_bought,\n",
    "count(*) cnt\n",
    "from kiosk_gekauft\n",
    "group by gekauft_per, year_bought\n",
    "order by year_bought, gekauft_per\n",
    "\"\"\")\n",
    "\n",
    "grouped = buying_method.groupby('year_bought')\n",
    "\n",
    "share_per_year: List[dict] = []\n",
    "for name, group in grouped:\n",
    "    if {'slack', 'web'}.issubset(set(group.gekauft_per.values)):\n",
    "        slack_cnt: int = group.loc[group.gekauft_per == 'slack', 'cnt'].item()\n",
    "        web_cnt: int = group.loc[group.gekauft_per == 'web', 'cnt'].item()\n",
    "        share_per_year.append(dict(\n",
    "            year=name,\n",
    "            slack_share=slack_cnt / (slack_cnt + web_cnt),\n",
    "            web_share=web_cnt / (slack_cnt + web_cnt),\n",
    "        ))\n",
    "\n",
    "fig, ax = plt.subplots()\n",
    "trace_slack = ax.bar(\n",
    "    [x['year'] for x in share_per_year],\n",
    "    [round(x['slack_share'],2)*100 for x in share_per_year],\n",
    "    label='Slack',\n",
    "    color=color_order[0],\n",
    ")\n",
    "trace_web = ax.bar(\n",
    "    [x['year'] for x in share_per_year],\n",
    "    [round(x['web_share'],2)*100 for x in share_per_year],\n",
    "    bottom=[round(x['slack_share'],2)*100 for x in share_per_year],\n",
    "    label='Web',\n",
    "    color=color_order[1],\n",
    ")\n",
    "ax.set_ylabel('Aufteilung der Bezahlmethoden in %')\n",
    "ax.bar_label(trace_slack, label_type='center')\n",
    "ax.legend()\n",
    "plt.show()"
   ],
   "metadata": {
    "datalore": {
     "type": "CODE",
     "hide_input_from_viewers": true,
     "hide_output_from_viewers": false
    }
   },
   "outputs": [],
   "execution_count": null
  },
  {
   "cell_type": "markdown",
   "source": [
    "# Geldwerte\n",
    "\n",
    "## Kioskbetrieb\n",
    "\n",
    "Rechnung zunächst ohne zusätzliches Einkommen v.a. durch Spende durch Kontoauflösung, dann werden zusätzliche Einkünfte mit aufgenommen."
   ],
   "attachments": {},
   "metadata": {
    "datalore": {
     "type": "MD",
     "hide_input_from_viewers": true,
     "hide_output_from_viewers": false
    }
   }
  },
  {
   "cell_type": "code",
   "source": [
    "unpaid: pd.DataFrame = query(\"\"\"\n",
    "  select\n",
    "  strftime('%Y', \"gekauftUm\") as year,\n",
    "  sum(verkaufspreis) as unpaid\n",
    "  from kiosk_gekauft\n",
    "  where kaeufer_id=4\n",
    "  group by year\n",
    "  order by year\n",
    "\"\"\")\n",
    "\n",
    "unpaid_missed_profits: pd.DataFrame = query(\"\"\"\n",
    "select\n",
    "strftime('%Y', \"gekauftUm\") as year,\n",
    "sum((verkaufspreis-einkaufspreis)/2) as unpaid_missed_profits\n",
    "from kiosk_gekauft\n",
    "where kaeufer_id=4\n",
    "group by year\n",
    "order by year\n",
    "\"\"\")\n",
    "\n",
    "paid: pd.DataFrame = query(\"\"\"\n",
    "select\n",
    "strftime('%Y', \"gekauftUm\") as year,\n",
    "sum(verkaufspreis) as paid\n",
    "from kiosk_gekauft\n",
    "where kaeufer_id <> 4\n",
    "group by year\n",
    "order by year\n",
    "\"\"\")\n",
    "\n",
    "money_lost: pd.DataFrame = query(\"\"\"\n",
    "with bezahlt as (\n",
    "select\n",
    "strftime('%Y',datum) as year,\n",
    "vonnutzer_id,\n",
    "sum(betrag) as bezahlt\n",
    "from kiosk_geldtransaktionen\n",
    "where vonnutzer_id=2\n",
    "  and zunutzer_id = 73\n",
    "group by vonnutzer_id, year\n",
    ")\n",
    "\n",
    ", bekommen as (\n",
    "select\n",
    "strftime('%Y',datum) as year,\n",
    "zunutzer_id,\n",
    "sum(betrag) as bekommen\n",
    "from kiosk_geldtransaktionen \n",
    "where zunutzer_id=2\n",
    "  and vonnutzer_id=73\n",
    "group by zunutzer_id, year\n",
    ")\n",
    "\n",
    "select\n",
    "coalesce(bezahlt.year, bekommen.year) as year,\n",
    "(coalesce(bezahlt,0) - coalesce(bekommen,0)) as money_lost\n",
    "from bezahlt\n",
    "left join bekommen\n",
    " on bezahlt.vonnutzer_id=bekommen.zunutzer_id and bezahlt.year = bekommen.year\n",
    "union all\n",
    "select\n",
    "coalesce(bezahlt.year, bekommen.year) as year,\n",
    "(coalesce(bezahlt,0) - coalesce(bekommen,0)) as money_lost\n",
    "from bekommen\n",
    "left join bezahlt\n",
    " on bezahlt.vonnutzer_id=bekommen.zunutzer_id and bezahlt.year = bekommen.year\n",
    "where bezahlt.vonnutzer_id is null\n",
    "\"\"\")\n",
    "\n",
    "worth: pd.DataFrame = query(\"\"\"\n",
    "with bezahlt as (\n",
    "select\n",
    "strftime('%Y',datum) as year,\n",
    "vonnutzer_id,\n",
    "sum(betrag) as bezahlt\n",
    "from kiosk_geldtransaktionen\n",
    "where vonnutzer_id=3\n",
    "group by vonnutzer_id, year\n",
    ")\n",
    "\n",
    ", bekommen as (\n",
    "select\n",
    "strftime('%Y',datum) as year,\n",
    "zunutzer_id,\n",
    "sum(betrag) as bekommen\n",
    "from kiosk_geldtransaktionen \n",
    "where zunutzer_id=3\n",
    "group by zunutzer_id, year\n",
    ")\n",
    "\n",
    "select\n",
    "bezahlt.year,\n",
    "-(bezahlt-bekommen) as diff\n",
    "from bezahlt\n",
    "left join bekommen\n",
    " on bezahlt.vonnutzer_id=bekommen.zunutzer_id and bezahlt.year = bekommen.year\n",
    "\"\"\")\n",
    "worth['worth'] = worth['diff'].cumsum()\n",
    "\n",
    "sell_value: pd.DataFrame = query(\"\"\"\n",
    "with all_kiosk_items as (\n",
    "select\n",
    " strftime('%Y', \"geliefertUm\") as year,\n",
    " verkaufspreis\n",
    "from kiosk_kiosk a\n",
    "left join (\n",
    "  select\n",
    "    c.id,\n",
    "    a.verkaufspreis\n",
    "  from kiosk_produktverkaufspreise a\n",
    "  join (\n",
    "      select\n",
    "        a.produktpalette_id,\n",
    "        max(a.\"gueltigAb\") as \"gueltigAb\"\n",
    "      from\n",
    "        kiosk_produktverkaufspreise a\n",
    "      group by\n",
    "        a.produktpalette_id\n",
    "    ) b\n",
    "    using (produktpalette_id,\"gueltigAb\")\n",
    "  join kiosk_produktpalette c\n",
    "      on a.produktpalette_id = c.id\n",
    ") b\n",
    " on a.produktpalette_id = b.id\n",
    "\n",
    "union all\n",
    "\n",
    "select\n",
    " strftime('%Y', \"geliefertUm\") as year,\n",
    " verkaufspreis\n",
    "from kiosk_gekauft\n",
    "where cast(strftime('%Y', \"gekauftUm\") as integer) > cast(strftime('%Y', \"geliefertUm\") as integer)\n",
    ")\n",
    "\n",
    "select\n",
    "year,\n",
    "sum(verkaufspreis) as sell_value\n",
    "from all_kiosk_items\n",
    "group by year\n",
    "order by year\n",
    "\"\"\")\n",
    "\n",
    "buy_value: pd.DataFrame = query(\"\"\"\n",
    "with all_kiosk_items as (\n",
    "select\n",
    " strftime('%Y', \"geliefertUm\") as year,\n",
    " einkaufspreis\n",
    "from kiosk_kiosk a\n",
    "\n",
    "union all\n",
    "\n",
    "select\n",
    " strftime('%Y', \"geliefertUm\") as year,\n",
    " einkaufspreis\n",
    "from kiosk_gekauft\n",
    "where cast(strftime('%Y', \"gekauftUm\") as integer) > cast(strftime('%Y', \"geliefertUm\") as integer)\n",
    ")\n",
    "\n",
    "select\n",
    "year,\n",
    "sum(einkaufspreis) as buy_value\n",
    "from all_kiosk_items\n",
    "group by year\n",
    "order by year\n",
    "\"\"\")\n",
    "\n",
    "accounts_value: pd.DataFrame = query(\"\"\"\n",
    "with bezahlt as (\n",
    "select\n",
    "strftime('%Y',datum) as year,\n",
    "vonnutzer_id,\n",
    "sum(betrag) as bezahlt\n",
    "from kiosk_geldtransaktionen\n",
    "group by vonnutzer_id, year\n",
    ")\n",
    "\n",
    ", bekommen as (\n",
    "select\n",
    "strftime('%Y',datum) as year,\n",
    "zunutzer_id,\n",
    "sum(betrag) as bekommen\n",
    "from kiosk_geldtransaktionen\n",
    "group by zunutzer_id, year\n",
    ")\n",
    "\n",
    ", stand as (\n",
    "select\n",
    "coalesce(bezahlt.year, bekommen.year) as year,\n",
    "coalesce(bekommen.zunutzer_id, bezahlt.vonnutzer_id) as user_id,\n",
    "-(coalesce(bezahlt,0) - coalesce(bekommen,0)) as diff\n",
    "from bezahlt\n",
    "left join bekommen\n",
    " on bezahlt.vonnutzer_id=bekommen.zunutzer_id and bezahlt.year = bekommen.year\n",
    "union all\n",
    "select\n",
    "coalesce(bezahlt.year, bekommen.year) as year,\n",
    "coalesce(bekommen.zunutzer_id, bezahlt.vonnutzer_id) as user_id,\n",
    "-(coalesce(bezahlt,0) - coalesce(bekommen,0)) as diff\n",
    "from bekommen\n",
    "left join bezahlt\n",
    " on bezahlt.vonnutzer_id=bekommen.zunutzer_id and bezahlt.year = bekommen.year\n",
    "where bezahlt.vonnutzer_id is null\n",
    ")\n",
    "\n",
    "select\n",
    "  year,\n",
    "  sum(diff) as value\n",
    "from stand\n",
    "where user_id not in (2,3,4,72,73,102)\n",
    "group by year\n",
    "order by year\n",
    "\"\"\")\n",
    "accounts_value['accounts_value'] = accounts_value['value'].cumsum()\n",
    "\n",
    "\n",
    "buy_value_sold_items: pd.DataFrame = query(\"\"\"\n",
    "  select\n",
    "  strftime('%Y', \"gekauftUm\") as year,\n",
    "    sum(einkaufspreis) as buy_value_sold_items\n",
    "  from kiosk_gekauft\n",
    "  group by year\n",
    "  order by year\n",
    "\"\"\")\n",
    "\n",
    "sell_value_sold_items: pd.DataFrame = query(\"\"\"\n",
    "  select\n",
    "  strftime('%Y', \"gekauftUm\") as year,\n",
    "    sum(verkaufspreis) as sell_value_sold_items\n",
    "  from kiosk_gekauft\n",
    "  group by year\n",
    "  order by year\n",
    "\"\"\")\n",
    "\n",
    "provisions: pd.DataFrame = query(\"\"\"\n",
    "select\n",
    "strftime('%Y', \"geliefertUm\") as year,\n",
    "sum((verkaufspreis-einkaufspreis)/2) as provisions\n",
    "from kiosk_gekauft\n",
    "group by year\n",
    "order by year\n",
    "\"\"\")\n",
    "\n",
    "kiosk_donated: pd.DataFrame = query(\"\"\"\n",
    "select\n",
    "strftime('%Y',datum) as year,\n",
    "sum(betrag) as kiosk_donated\n",
    "from kiosk_geldtransaktionen\n",
    "where vonnutzer_id = 3\n",
    "  and zunutzer_id = 102\n",
    "GROUP by year\n",
    "order by year\n",
    "\"\"\")\n",
    "\n",
    "direct_donated: pd.DataFrame = query(\"\"\"\n",
    "select\n",
    "strftime('%Y',datum) as year,\n",
    "sum(betrag) as direct_donated\n",
    "from kiosk_geldtransaktionen\n",
    "where vonnutzer_id != 3\n",
    "  and zunutzer_id = 102\n",
    "GROUP by year\n",
    "order by year\n",
    "\"\"\")\n",
    "\n",
    "df = unpaid\n",
    "df = df.set_index('year')\n",
    "df = df.join(unpaid_missed_profits.set_index('year'), on='year', lsuffix='', rsuffix='_r')\n",
    "df = df.join(paid.set_index('year'), on='year', lsuffix='', rsuffix='_r')\n",
    "df = df.join(money_lost.set_index('year'), on='year', lsuffix='', rsuffix='_r')\n",
    "df = df.join(worth.set_index('year'), on='year', lsuffix='', rsuffix='_r')\n",
    "df = df.join(sell_value.set_index('year'), on='year', lsuffix='', rsuffix='_r')\n",
    "df = df.join(buy_value.set_index('year'), on='year', lsuffix='', rsuffix='_r')\n",
    "df = df.join(accounts_value.set_index('year'), on='year', lsuffix='', rsuffix='_r')\n",
    "df = df.join(buy_value_sold_items.set_index('year'), on='year', lsuffix='', rsuffix='_r')\n",
    "df = df.join(sell_value_sold_items.set_index('year'), on='year', lsuffix='', rsuffix='_r')\n",
    "df = df.join(provisions.set_index('year'), on='year', lsuffix='', rsuffix='_r')\n",
    "df = df.join(kiosk_donated.set_index('year'), on='year', lsuffix='', rsuffix='_r')\n",
    "df = df.join(direct_donated.set_index('year'), on='year', lsuffix='', rsuffix='_r')\n",
    "\n",
    "df = df.loc[:, ['unpaid', 'unpaid_missed_profits', 'paid', 'money_lost', 'worth', 'sell_value', 'buy_value', 'accounts_value', 'buy_value_sold_items', 'sell_value_sold_items', 'provisions', 'kiosk_donated', 'direct_donated']]\n",
    "df = df.fillna(0)\n",
    "\n",
    "df['vermoegen'] = df.apply(\n",
    "    lambda x: x.worth + x.sell_value,\n",
    "    axis=1,\n",
    ")\n",
    "df['provision_kiosk'] = df.apply(\n",
    "    lambda x: (x.sell_value - x.buy_value) / 2.0,\n",
    "    axis=1,\n",
    ")\n",
    "\n",
    "df['theo_income'] = df.apply(\n",
    "    lambda x: x.paid + x.unpaid,\n",
    "    axis=1,\n",
    ")\n",
    "df['expenses_buyings'] = df.apply(\n",
    "    lambda x: x.buy_value + x.buy_value_sold_items,\n",
    "    axis=1,\n",
    ")\n",
    "df['provisions_buyings'] = df.apply(\n",
    "    lambda x: x.provision_kiosk + x.provisions,\n",
    "    axis=1,\n",
    ")\n",
    "df['unpaid_money_loss'] = df.apply(\n",
    "    lambda x: x.unpaid + x.money_lost,\n",
    "    axis=1,\n",
    ")\n",
    "\n",
    "df['theo_profit'] = df.apply(\n",
    "    lambda x: x.theo_income - x.expenses_buyings - x.provisions_buyings,\n",
    "    axis=1,\n",
    ")\n",
    "df['real_safe_profit'] = df.apply(\n",
    "    lambda x: x.theo_profit - x.unpaid_money_loss,\n",
    "    axis=1,\n",
    ")\n",
    "df['real_expected_profit'] = df.apply(\n",
    "    lambda x: x.real_safe_profit + x.sell_value * x.paid / (x.paid + x.unpaid),\n",
    "    axis=1,\n",
    ")\n",
    "df['bilanz'] = df.apply(\n",
    "    lambda x: x.real_expected_profit - x.kiosk_donated,\n",
    "    axis=1,\n",
    ")\n",
    "\n",
    "df = df.applymap(lambda x: x/100.0)\n",
    "df = df.transpose()\n",
    "\n",
    "df['all'] = df.sum(axis=1)\n",
    "df.loc['worth', 'all'] = df.loc['worth'].iloc[-2]\n",
    "df.loc['sell_value', 'all'] = df.loc['sell_value'].iloc[-2]\n",
    "df.loc['buy_value', 'all'] = df.loc['buy_value'].iloc[-2]\n",
    "df.loc['accounts_value', 'all'] = df.loc['accounts_value'].iloc[-2]\n",
    "df.loc['vermoegen', 'all'] = df.loc['vermoegen'].iloc[-2]\n",
    "df.loc['provision_kiosk', 'all'] = df.loc['provision_kiosk'].iloc[-2]\n",
    "df.loc['expenses_buyings', 'all'] = df.loc['buy_value', 'all'] + df.loc['buy_value_sold_items', 'all']\n",
    "df.loc['provisions_buyings', 'all'] = df.loc['provision_kiosk', 'all'] + df.loc['provisions', 'all']\n",
    "df.loc['theo_profit', 'all'] = df.loc['theo_income', 'all'] - df.loc['expenses_buyings', 'all'] - df.loc['provisions_buyings', 'all']\n",
    "df.loc['real_safe_profit', 'all'] = df.loc['theo_profit', 'all'] - df.loc['unpaid_money_loss', 'all']\n",
    "df.loc['real_expected_profit', 'all'] = df.loc['real_safe_profit', 'all'] \\\n",
    "      + df.loc['sell_value', 'all'] * df.loc['paid'].iloc[-2] / (df.loc['paid'].iloc[-2] + df.loc['unpaid'].iloc[-2])\n",
    "df.loc['bilanz', 'all'] = df.loc['real_expected_profit', 'all'] - df.loc['kiosk_donated', 'all']\n",
    "\n",
    "print_choices = list(df.columns.values)\n",
    "df"
   ],
   "metadata": {
    "datalore": {
     "type": "CODE",
     "hide_input_from_viewers": true,
     "hide_output_from_viewers": false
    }
   },
   "outputs": [],
   "execution_count": null
  },
  {
   "cell_type": "markdown",
   "source": [
    "## Legende\n",
    "\n",
    "### Tabellenerklärung\n",
    "\n",
    "| Reihe | Erklärung | \"all\" |\n",
    "|------:|:----------|:------|\n",
    "| **unpaid** | Verkaufswert von Ware, die nicht bezahlt wurde | Summe über alle Jahre |\n",
    "| **unpaid_missed_profits** | Entgangener Gewinn von Ware, die nicht bezahlt wurde | Summe über alle Jahre |\n",
    "| **paid** | Bezahlte Ware | Summe über alle Jahre\n",
    "| **money_lost** | Bargeld-Differenz in Kasse, die vermerkt wurde | Summe über alle Jahre |\n",
    "| **worth** | Kontostand der Bank. Entspricht dem momentanen theoretischen Gewinn (?)<br> In Kombination mit unbezahlter Ware, Bargeld-Differenz entspricht dies den momentanen realen Profiten (?)<br>Zusätzlich in Kombination mit gespendetem Geld die momentane Bilanz (?) | Wert zum Stichtag |\n",
    "| **sell_value**<br>**buy_value** | Verkaufswert / Einkaufswert der Waren im Kiosk zum Jahresende bzw. Stichtag der Auswertung | Werte zum Stichtag |\n",
    "| **accounts_value** | Geldwert auf den Konten aller realen Nutzer:innen zum Jahresende bzw. Stichtag | Wert zum Stichtag |\n",
    "| **buy_...**<br>**sell_value_sold_items** | Verkaufswert / Einkaufswert aller im Jahr verkauften Waren | Summe über alle Jahre |\n",
    "| **provisions** | Ausgeschüttete Provisionen für das Erledigen von Einkäufen | Summe über alle Jahre |\n",
    "| **kiosk_donated** | Spenden aus Profiten des Kiosks heraus | Summe über alle Jahre |\n",
    "| **direct_donated** | Direktspenden durch Aufrunden-Funktion beim Kauf von Ware | Summe über alle Jahre |\n",
    "| **vermoegen** | _worth_ (Kontostand der Bank) plus Verkaufswert der Kioskware.<br>Hier fehlt noch unbezahlte Ware und Bargeld-Differenz | Wert zum Stichtag |\n",
    "| **provision_kiosk** | Bezahlte Provisionen der Kiosk-Ware | Wert zum Stichtag |\n",
    "| **theo_income** | Geldfluss, der theoretisch der Kiosk-Bank durch Einkäufe zugeführt werden würde, gäbe es keine unbezahlte Ware | Summe über alle Jahre |\n",
    "| **expenses_buyings** | Ausgegebenes Geld für Einkäufe (gekaufte Ware und Ware im Kiosk) | Summe über alle Jahre |\n",
    "| **provisions_buyings** | Ausgegebenes Geld für Einkaufsprovisionen (gekaufte Ware und Ware im Kiosk) | Summe über alle Jahre |\n",
    "| **unpaid_money_loss** | Verkaufswert von unbezahlter Ware und Bargeld-Differenz | Summe über alle Jahre |\n",
    "| **theo_profit** | Ausgaben für Wareneinkauf und Provisionen gegenüber der theoretischen Bezahlung, falls es keine unbezahlte Ware gäbe.<br> Ohne den Kiosk-Verkaufswert. | Summe über alle Jahre |\n",
    "| **real_safe_profit** | Theoretischer Profit abzüglich der unbezahlten Ware und der Bargeld-Differenz.<br> Ohne den Kiosk-Verkaufswert. | Summe über alle Jahre |\n",
    "| **real_expected_profit** | Realer gesicherter Profit plus den Verkaufswert des gesamten Kioskbestandes mit momentaner Unbezahlt-Rate | analog Einzel-Jahresauswertung |\n",
    "| **bilanz** | Reale erwartete Gewinne abzüglich der Kiosk-Spenden | analog Einzel-Jahresauswertung |\n",
    "\n",
    "### Notizen\n",
    "\n",
    "- **Unbezahlte Ware:** ~~Hier nicht den Verkaufswert (EK-Preis + Provision + erwarteter Gewinn) der unbezahlten Ware ausweisen, sondern nur den entgangenen Gewinn! (Plus die Bargeld-Differenz). Erklärung: EK-Preis und Provision sind für die Ware schon in den anderen Posten aufgelistet. Es würde sonst zu Doppelzählung kommen.~~ Doch, alles rechnen, "
   ],
   "attachments": {},
   "metadata": {
    "datalore": {
     "type": "MD",
     "hide_input_from_viewers": true,
     "hide_output_from_viewers": false
    }
   }
  },
  {
   "cell_type": "code",
   "source": [
    "year_choice_waterfall_diagram = print_choices[-1]\n",
    "year_choice_waterfall_diagram"
   ],
   "metadata": {
    "datalore": {
     "type": "CONTROL",
     "hide_input_from_viewers": true,
     "hide_output_from_viewers": false,
     "controls_state": [
      {
       "type": "DROPDOWN",
       "label": "year_choice_waterfall_diagram",
       "variable": "year_choice_waterfall_diagram",
       "value": "all",
       "values": [],
       "items": [
        "2017",
        "2018",
        "2019",
        "2020",
        "2021",
        "2022",
        "all"
       ],
       "selected_variable": "print_choices",
       "multiselect": false
      }
     ]
    }
   },
   "outputs": [],
   "execution_count": null
  },
  {
   "cell_type": "code",
   "source": [
    "print_choices"
   ],
   "metadata": {
    "collapsed": false
   },
   "outputs": [],
   "execution_count": null
  },
  {
   "cell_type": "code",
   "source": [
    "_df = df.loc[:, year_choice_waterfall_diagram]\n",
    "\n",
    "data = []\n",
    "data.append(dict(\n",
    "    measure='relative',\n",
    "    y='Theo. Einnahmen',\n",
    "    x=_df.theo_income,\n",
    "))\n",
    "data.append(dict(\n",
    "    measure='relative',\n",
    "    y='Einkauf',\n",
    "    x=-_df.expenses_buyings,\n",
    "))\n",
    "data.append(dict(\n",
    "    measure='relative',\n",
    "    y='Einkaufsvergütung',\n",
    "    x=-_df.provisions_buyings,\n",
    "))\n",
    "data.append(dict(\n",
    "    measure='total',\n",
    "    y='Theo. Profit<br>(ohne Kioskware)',\n",
    "    x=None,\n",
    "))\n",
    "data.append(dict(\n",
    "    measure='relative',\n",
    "    y='Unbezahlt',\n",
    "    x=-_df.unpaid_money_loss,\n",
    "))\n",
    "data.append(dict(\n",
    "    measure='total',\n",
    "    y='Realer Profit<br>(ohne Kioskware)',\n",
    "    x=None,\n",
    "))\n",
    "data.append(dict(\n",
    "    measure='relative',\n",
    "    y='Prognose Verkauf Kioskware',\n",
    "    x=_df.real_expected_profit - _df.real_safe_profit,\n",
    "))\n",
    "data.append(dict(\n",
    "    measure='total',\n",
    "    y='Realer Profit<br>mit verkaufter Kioskware',\n",
    "    x=None,\n",
    "))\n",
    "data.append(dict(\n",
    "    measure='relative',\n",
    "    y='Kiosk-Spenden',\n",
    "    x=-_df.kiosk_donated,\n",
    "))\n",
    "data.append(dict(\n",
    "    measure='total',\n",
    "    y='Bilanz',\n",
    "    x=None,\n",
    "))\n",
    "\n",
    "fig_waterfall = go.Figure(go.Waterfall(\n",
    "    name='tst',\n",
    "    orientation='v',\n",
    "    connector = {\"mode\":\"between\", \"line\":{\"width\": 1, \"color\": \"rgba(0, 0, 0, 0.5)\", \"dash\":\"solid\"}},\n",
    "    measure=[x['measure'] for x in data],\n",
    "    x=[x['y'] for x in data],\n",
    "    y=[x['x'] for x in data],\n",
    "))\n",
    "\n",
    "_layout = deepcopy(layout)\n",
    "_layout['yaxis_zeroline'] = True\n",
    "_layout['yaxis_zerolinewidth'] = 2\n",
    "_layout['yaxis_zerolinecolor'] = 'rgba(255,0,0,1)'\n",
    "_layout['title'] = f'Kioskbetrieb Bilanz \"{year_choice_waterfall_diagram}\"'\n",
    "fig_waterfall.update_layout(_layout)\n",
    "fig_waterfall.show()"
   ],
   "metadata": {
    "datalore": {
     "type": "CODE",
     "hide_input_from_viewers": true,
     "hide_output_from_viewers": false
    }
   },
   "outputs": [],
   "execution_count": null
  },
  {
   "cell_type": "markdown",
   "source": [
    "## Geldflüsse und Konten\n",
    "\n",
    "### Funktionsnutzer\n",
    "\n",
    "Auflistung der nicht normalen Nutzer für weitere Auswertungen"
   ],
   "attachments": {},
   "metadata": {
    "datalore": {
     "type": "MD",
     "hide_input_from_viewers": true,
     "hide_output_from_viewers": false
    }
   }
  },
  {
   "cell_type": "code",
   "source": [
    "functional_users = query(\"\"\"\n",
    "select username from profil_kioskuser where last_login is null or \"aktivBis\"='2100-01-01' and is_superuser is false\n",
    "\"\"\")\n",
    "functional_users"
   ],
   "metadata": {
    "datalore": {
     "type": "CODE",
     "hide_input_from_viewers": true,
     "hide_output_from_viewers": false
    }
   },
   "outputs": [],
   "execution_count": null
  },
  {
   "cell_type": "markdown",
   "source": [
    "### Geldströme zwischen Nutzergruppen"
   ],
   "attachments": {},
   "metadata": {
    "datalore": {
     "type": "MD",
     "hide_input_from_viewers": true,
     "hide_output_from_viewers": false
    }
   }
  },
  {
   "cell_type": "code",
   "source": [
    "functional_transactions = query(\"\"\"\n",
    "select\n",
    "case when vonnutzer_id in (2,3,4,72,73,102)\n",
    "  then pk.username\n",
    "  else 'User'\n",
    "end as von,\n",
    "case when zunutzer_id in (2,3,4,72,73,102)\n",
    "  then pk2.username\n",
    "  else 'User'\n",
    "end as zu,\n",
    "sum(betrag) / 100.0 as betrag\n",
    "from kiosk_geldtransaktionen kg\n",
    "join profil_kioskuser pk on pk.id = kg.vonnutzer_id\n",
    "join profil_kioskuser pk2 on pk2.id = kg.zunutzer_id\n",
    "group by von, zu\n",
    "\"\"\")\n",
    "\n",
    "functional_transactions"
   ],
   "metadata": {
    "datalore": {
     "type": "CODE",
     "hide_input_from_viewers": true,
     "hide_output_from_viewers": false
    }
   },
   "outputs": [],
   "execution_count": null
  },
  {
   "cell_type": "markdown",
   "source": [
    "### Kontostände von Nutzergruppen\n",
    "\n",
    "- Summe aus `Bargeld` und `Bargeld_im_Tresor` bilden den realen Bargeld-Vorrat\n",
    "- Summe aus `Bank`, `Dieb` und `Bargeld_Dieb` bilden die momentane Bilanz im Kiosk\n",
    "- Sofern `Spendenkonto` und alle `User`konten geleert sind, haben beide oben genannten Gruppen den gleichen Wert und zeigen den Gewinn im Kiosk"
   ],
   "attachments": {},
   "metadata": {
    "datalore": {
     "type": "MD",
     "hide_input_from_viewers": true,
     "hide_output_from_viewers": false
    }
   }
  },
  {
   "cell_type": "code",
   "source": [
    "balances = query(\"\"\"\n",
    "select\n",
    "case when nutzer_id in (2,3,4,72,73,102)\n",
    "  then pk.username\n",
    "  else 'User'\n",
    "end as user,\n",
    "sum(stand) / 100.0 as stand\n",
    "from kiosk_kontostand kks\n",
    "join profil_kioskuser pk on pk.id = kks.nutzer_id\n",
    "group by user\n",
    "\"\"\")\n",
    "\n",
    "balances = balances.set_index('user')\n",
    "balances"
   ],
   "metadata": {
    "datalore": {
     "type": "CODE",
     "hide_input_from_viewers": true,
     "hide_output_from_viewers": false
    }
   },
   "outputs": [],
   "execution_count": null
  },
  {
   "cell_type": "code",
   "source": [
    "print(\n",
    "    f' Bargeldbestand:\\t\\t\\t {-round(balances.loc[\"Bargeld\", \"stand\"] + balances.loc[\"Bargeld_im_Tresor\", \"stand\"],2)} €',\n",
    "    '\\n',\n",
    "    f'Eingezahltes Geld auf Nutzerkonten:\\t {round(balances.loc[\"User\", \"stand\"],2)} €',\n",
    "    '\\n',\n",
    "    f'Spendenkonto:\\t\\t\\t\\t {balances.loc[\"Spendenkonto\", \"stand\"]} €',\n",
    "    '\\n',\n",
    "    f'Kiosk-Bilanz:\\t\\t\\t\\t {round(balances.loc[\"Bank\", \"stand\"] + balances.loc[\"Dieb\", \"stand\"] + balances.loc[\"Bargeld_Dieb\", \"stand\"],2)}€',\n",
    ")"
   ],
   "metadata": {
    "datalore": {
     "type": "CODE",
     "hide_input_from_viewers": true,
     "hide_output_from_viewers": false
    }
   },
   "outputs": [],
   "execution_count": null
  },
  {
   "cell_type": "markdown",
   "source": [
    "### Detailanalyse Geldflüsse zur Bank\n",
    "\n",
    "Hier zeigen sich Geldflüsse zur Kiosk-Bank und von der Kiosk-Bank, die oben nicht berücksichtigt wurden, v.a. Spenden und Konto-Leerungen.\n",
    "Diese tragen zur positiven Bilanz im Kiosk bei.\n",
    "\n",
    "Es passt aber noch nicht zusammen..."
   ],
   "attachments": {},
   "metadata": {
    "datalore": {
     "type": "MD",
     "hide_input_from_viewers": true,
     "hide_output_from_viewers": false
    }
   }
  },
  {
   "cell_type": "code",
   "source": [
    "bank_money_flows = query(\"\"\"\n",
    "with data as (\n",
    "select datum,\n",
    "       betrag,\n",
    "\t   kommentar,\n",
    "\t   'User Kauf' as zweck\n",
    "from kiosk_geldtransaktionen\n",
    "where vonnutzer_id not in (2,3,4,72,73,102)\n",
    "  and zunutzer_id = 3\n",
    "  and kommentar like 'Kauf %'\n",
    "  \n",
    "union all\n",
    "\n",
    "select datum,\n",
    "       betrag,\n",
    "\t   kommentar,\n",
    "\t   'User Leerung' as zweck\n",
    "from kiosk_geldtransaktionen\n",
    "where vonnutzer_id not in (2,3,4,72,73,102)\n",
    "  and zunutzer_id = 3\n",
    "  and kommentar like 'Transfer of remaining money %'\n",
    "\n",
    "union all\n",
    "\n",
    "select datum,\n",
    "       betrag,\n",
    "\t   kommentar,\n",
    "\t   'User Spende' as zweck\n",
    "from kiosk_geldtransaktionen\n",
    "where vonnutzer_id not in (2,3,4,72,73,102)\n",
    "  and zunutzer_id = 3\n",
    "  and kommentar like '%Spende %'\n",
    "\n",
    "union all\n",
    "\n",
    "select datum,\n",
    "       betrag,\n",
    "\t   kommentar,\n",
    "\t   'User Rest' as zweck\n",
    "from kiosk_geldtransaktionen\n",
    "where vonnutzer_id not in (2,3,4,72,73,102)\n",
    "  and zunutzer_id = 3\n",
    "  and kommentar not like '%Spende %' and kommentar not like 'Transfer of remaining money %' and kommentar not like 'Kauf %'\n",
    "  \n",
    "union all\n",
    "\n",
    "select datum,\n",
    "       betrag,\n",
    "\t   kommentar,\n",
    "\t   'Dieb Kauf' as zweck\n",
    "from kiosk_geldtransaktionen\n",
    "where vonnutzer_id = 4\n",
    "  and zunutzer_id = 3\n",
    "  \n",
    "union all\n",
    "  \n",
    "select datum,\n",
    "       betrag,\n",
    "\t   kommentar,\n",
    "\t   'Bargeld Spende' as zweck\n",
    "from kiosk_geldtransaktionen\n",
    "where vonnutzer_id = 2\n",
    "  and zunutzer_id = 3\n",
    "\n",
    "union all\n",
    "\n",
    "select datum,\n",
    "       -betrag as betrag,\n",
    "\t   kommentar,\n",
    "\t   'Einkauf Erstattung' as zweck\n",
    "from kiosk_geldtransaktionen\n",
    "where zunutzer_id not in (2,3,4,72,73,102)\n",
    "  and vonnutzer_id = 3\n",
    "  and kommentar like 'Erstattung %'\n",
    "\n",
    "union all\n",
    "\n",
    "select datum,\n",
    "       -betrag as betrag,\n",
    "\t   kommentar,\n",
    "\t   'Rückbuchung' as zweck\n",
    "from kiosk_geldtransaktionen\n",
    "where zunutzer_id not in (2,3,4,72,73,102)\n",
    "  and vonnutzer_id = 3\n",
    "  and kommentar like 'Rückbuchung %'\n",
    "\n",
    "union all\n",
    "\n",
    "select datum,\n",
    "       -betrag as betrag,\n",
    "\t   kommentar,\n",
    "\t   'Rest' as zweck\n",
    "from kiosk_geldtransaktionen\n",
    "where zunutzer_id not in (2,3,4,72,73,102)\n",
    "  and vonnutzer_id = 3\n",
    "  and kommentar not like 'Erstattung %' and kommentar not like 'Rückbuchung %'\n",
    "\n",
    "union all\n",
    "\n",
    "select datum,\n",
    "       -betrag as betrag,\n",
    "\t   kommentar,\n",
    "\t   'Dieb Rückbuchung' as zweck\n",
    "from kiosk_geldtransaktionen\n",
    "where zunutzer_id = 4\n",
    "  and vonnutzer_id = 3\n",
    "\n",
    "union all\n",
    "\n",
    "select datum,\n",
    "       -betrag as betrag,\n",
    "\t   kommentar,\n",
    "\t   'Bank Spende' as zweck\n",
    "from kiosk_geldtransaktionen\n",
    "where zunutzer_id = 102\n",
    "  and vonnutzer_id = 3\n",
    ")\n",
    "\n",
    "select\n",
    "strftime('%Y',datum) as year,\n",
    "zweck,\n",
    "sum(betrag) / 100.0 as betrag\n",
    "from data\n",
    "group by year, zweck\n",
    "order by year, zweck\n",
    "\"\"\")\n",
    "bank_money_flows"
   ],
   "metadata": {
    "datalore": {
     "type": "CODE",
     "hide_input_from_viewers": true,
     "hide_output_from_viewers": false
    }
   },
   "outputs": [],
   "execution_count": null
  },
  {
   "cell_type": "code",
   "source": [
    "from lets_plot import * \n",
    "ggplot() + \\\n",
    "geom_bar(aes(x=\"year\", y=\"betrag\", color=\"zweck\", fill=\"zweck\"), data=bank_money_flows, sampling=\"none\" if bank_money_flows.size < 50 else sampling_pick(n=50), stat=\"identity\")"
   ],
   "metadata": {
    "datalore": {
     "type": "PLOT",
     "hide_input_from_viewers": true,
     "hide_output_from_viewers": false,
     "plot_state": {
      "sampling": true,
      "reactive": true,
      "plots": [
       {
        "type": "BAR",
        "variable": "bank_money_flows",
        "xAxis": {
         "value": "year",
         "scale": "NONE"
        },
        "yAxis": {
         "value": "betrag",
         "scale": "NONE"
        },
        "colorAxis": {
         "value": "zweck",
         "scale": "NONE"
        }
       }
      ]
     }
    }
   },
   "outputs": [],
   "execution_count": null
  }
 ],
 "metadata": {
  "datalore": {
   "version": 1,
   "computation_mode": "JUPYTER",
   "package_manager": "pip",
   "base_environment": "minimal",
   "packages": []
  },
  "kernelspec": {
   "name": "python3",
   "language": "python",
   "display_name": "Python 3 (ipykernel)"
  }
 },
 "nbformat": 4,
 "nbformat_minor": 4
}
